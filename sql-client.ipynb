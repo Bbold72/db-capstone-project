{
 "cells": [
  {
   "attachments": {},
   "cell_type": "markdown",
   "metadata": {},
   "source": [
    "# Setting Up SQL Client\n"
   ]
  },
  {
   "attachments": {},
   "cell_type": "markdown",
   "metadata": {},
   "source": [
    "### Task 1\n",
    "Your first task is to navigate to your terminal and ensure that Python is installed and available on the command path. To complete this task, type the following syntax:  \n",
    "`python --version`"
   ]
  },
  {
   "cell_type": "code",
   "execution_count": 2,
   "metadata": {},
   "outputs": [
    {
     "name": "stdout",
     "output_type": "stream",
     "text": [
      "Python 3.8.10\n"
     ]
    }
   ],
   "source": [
    "!python --version"
   ]
  },
  {
   "attachments": {},
   "cell_type": "markdown",
   "metadata": {},
   "source": [
    "### Task 2\n",
    "Having established that an up-to date version of python is installed on your machine you will need to install Jupyter. You can install Jupyter using the following code:   \n",
    "`python -m pip install jupyter`"
   ]
  },
  {
   "cell_type": "code",
   "execution_count": 3,
   "metadata": {},
   "outputs": [
    {
     "name": "stdout",
     "output_type": "stream",
     "text": [
      "Defaulting to user installation because normal site-packages is not writeable\n",
      "Requirement already satisfied: jupyter in /usr/local/lib/python3.8/dist-packages (1.0.0)\n",
      "Requirement already satisfied: qtconsole in /usr/local/lib/python3.8/dist-packages (from jupyter) (5.4.0)\n",
      "Requirement already satisfied: nbconvert in /usr/local/lib/python3.8/dist-packages (from jupyter) (7.2.5)\n",
      "Requirement already satisfied: notebook in /usr/local/lib/python3.8/dist-packages (from jupyter) (6.5.2)\n",
      "Requirement already satisfied: ipywidgets in /usr/local/lib/python3.8/dist-packages (from jupyter) (8.0.2)\n",
      "Requirement already satisfied: jupyter-console in /usr/local/lib/python3.8/dist-packages (from jupyter) (6.4.4)\n",
      "Requirement already satisfied: ipykernel in /usr/local/lib/python3.8/dist-packages (from jupyter) (6.17.1)\n",
      "Requirement already satisfied: debugpy>=1.0 in /usr/local/lib/python3.8/dist-packages (from ipykernel->jupyter) (1.6.4)\n",
      "Requirement already satisfied: nest-asyncio in /usr/local/lib/python3.8/dist-packages (from ipykernel->jupyter) (1.5.6)\n",
      "Requirement already satisfied: pyzmq>=17 in /usr/local/lib/python3.8/dist-packages (from ipykernel->jupyter) (24.0.1)\n",
      "Requirement already satisfied: ipython>=7.23.1 in /usr/local/lib/python3.8/dist-packages (from ipykernel->jupyter) (8.7.0)\n",
      "Requirement already satisfied: packaging in /usr/local/lib/python3.8/dist-packages (from ipykernel->jupyter) (21.3)\n",
      "Requirement already satisfied: psutil in /usr/local/lib/python3.8/dist-packages (from ipykernel->jupyter) (5.9.4)\n",
      "Requirement already satisfied: traitlets>=5.1.0 in /usr/local/lib/python3.8/dist-packages (from ipykernel->jupyter) (5.6.0)\n",
      "Requirement already satisfied: jupyter-client>=6.1.12 in /usr/local/lib/python3.8/dist-packages (from ipykernel->jupyter) (7.4.7)\n",
      "Requirement already satisfied: tornado>=6.1 in /usr/local/lib/python3.8/dist-packages (from ipykernel->jupyter) (6.2)\n",
      "Requirement already satisfied: matplotlib-inline>=0.1 in /usr/local/lib/python3.8/dist-packages (from ipykernel->jupyter) (0.1.6)\n",
      "Requirement already satisfied: jupyterlab-widgets~=3.0 in /usr/local/lib/python3.8/dist-packages (from ipywidgets->jupyter) (3.0.3)\n",
      "Requirement already satisfied: widgetsnbextension~=4.0 in /usr/local/lib/python3.8/dist-packages (from ipywidgets->jupyter) (4.0.3)\n",
      "Requirement already satisfied: pygments in /usr/local/lib/python3.8/dist-packages (from jupyter-console->jupyter) (2.13.0)\n",
      "Requirement already satisfied: prompt-toolkit!=3.0.0,!=3.0.1,<3.1.0,>=2.0.0 in /usr/local/lib/python3.8/dist-packages (from jupyter-console->jupyter) (3.0.33)\n",
      "Requirement already satisfied: jupyter-core>=4.7 in /usr/local/lib/python3.8/dist-packages (from nbconvert->jupyter) (5.1.0)\n",
      "Requirement already satisfied: nbclient>=0.5.0 in /usr/local/lib/python3.8/dist-packages (from nbconvert->jupyter) (0.7.2)\n",
      "Requirement already satisfied: jinja2>=3.0 in /usr/local/lib/python3.8/dist-packages (from nbconvert->jupyter) (3.1.2)\n",
      "Requirement already satisfied: nbformat>=5.1 in /usr/local/lib/python3.8/dist-packages (from nbconvert->jupyter) (5.7.0)\n",
      "Requirement already satisfied: beautifulsoup4 in /usr/local/lib/python3.8/dist-packages (from nbconvert->jupyter) (4.11.1)\n",
      "Requirement already satisfied: jupyterlab-pygments in /usr/local/lib/python3.8/dist-packages (from nbconvert->jupyter) (0.2.2)\n",
      "Requirement already satisfied: mistune<3,>=2.0.3 in /usr/local/lib/python3.8/dist-packages (from nbconvert->jupyter) (2.0.4)\n",
      "Requirement already satisfied: bleach in /usr/local/lib/python3.8/dist-packages (from nbconvert->jupyter) (5.0.1)\n",
      "Requirement already satisfied: markupsafe>=2.0 in /usr/local/lib/python3.8/dist-packages (from nbconvert->jupyter) (2.1.1)\n",
      "Requirement already satisfied: tinycss2 in /usr/local/lib/python3.8/dist-packages (from nbconvert->jupyter) (1.2.1)\n",
      "Requirement already satisfied: importlib-metadata>=3.6 in /usr/local/lib/python3.8/dist-packages (from nbconvert->jupyter) (5.1.0)\n",
      "Requirement already satisfied: pandocfilters>=1.4.1 in /usr/local/lib/python3.8/dist-packages (from nbconvert->jupyter) (1.5.0)\n",
      "Requirement already satisfied: defusedxml in /usr/local/lib/python3.8/dist-packages (from nbconvert->jupyter) (0.7.1)\n",
      "Requirement already satisfied: argon2-cffi in /usr/local/lib/python3.8/dist-packages (from notebook->jupyter) (21.3.0)\n",
      "Requirement already satisfied: terminado>=0.8.3 in /usr/local/lib/python3.8/dist-packages (from notebook->jupyter) (0.17.0)\n",
      "Requirement already satisfied: ipython-genutils in /usr/local/lib/python3.8/dist-packages (from notebook->jupyter) (0.2.0)\n",
      "Requirement already satisfied: nbclassic>=0.4.7 in /usr/local/lib/python3.8/dist-packages (from notebook->jupyter) (0.4.8)\n",
      "Requirement already satisfied: prometheus-client in /usr/local/lib/python3.8/dist-packages (from notebook->jupyter) (0.15.0)\n",
      "Requirement already satisfied: Send2Trash>=1.8.0 in /usr/local/lib/python3.8/dist-packages (from notebook->jupyter) (1.8.0)\n",
      "Requirement already satisfied: qtpy>=2.0.1 in /usr/local/lib/python3.8/dist-packages (from qtconsole->jupyter) (2.3.0)\n",
      "Requirement already satisfied: zipp>=0.5 in /usr/local/lib/python3.8/dist-packages (from importlib-metadata>=3.6->nbconvert->jupyter) (3.11.0)\n",
      "Requirement already satisfied: pexpect>4.3 in /usr/local/lib/python3.8/dist-packages (from ipython>=7.23.1->ipykernel->jupyter) (4.8.0)\n",
      "Requirement already satisfied: decorator in /usr/local/lib/python3.8/dist-packages (from ipython>=7.23.1->ipykernel->jupyter) (5.1.1)\n",
      "Requirement already satisfied: backcall in /usr/local/lib/python3.8/dist-packages (from ipython>=7.23.1->ipykernel->jupyter) (0.2.0)\n",
      "Requirement already satisfied: stack-data in /usr/local/lib/python3.8/dist-packages (from ipython>=7.23.1->ipykernel->jupyter) (0.6.2)\n",
      "Requirement already satisfied: jedi>=0.16 in /usr/local/lib/python3.8/dist-packages (from ipython>=7.23.1->ipykernel->jupyter) (0.18.2)\n",
      "Requirement already satisfied: pickleshare in /usr/local/lib/python3.8/dist-packages (from ipython>=7.23.1->ipykernel->jupyter) (0.7.5)\n",
      "Requirement already satisfied: python-dateutil>=2.8.2 in /usr/local/lib/python3.8/dist-packages (from jupyter-client>=6.1.12->ipykernel->jupyter) (2.8.2)\n",
      "Requirement already satisfied: entrypoints in /usr/local/lib/python3.8/dist-packages (from jupyter-client>=6.1.12->ipykernel->jupyter) (0.4)\n",
      "Requirement already satisfied: platformdirs>=2.5 in /usr/local/lib/python3.8/dist-packages (from jupyter-core>=4.7->nbconvert->jupyter) (2.5.2)\n",
      "Requirement already satisfied: notebook-shim>=0.1.0 in /usr/local/lib/python3.8/dist-packages (from nbclassic>=0.4.7->notebook->jupyter) (0.2.2)\n",
      "Requirement already satisfied: jupyter-server>=1.8 in /usr/local/lib/python3.8/dist-packages (from nbclassic>=0.4.7->notebook->jupyter) (1.23.3)\n",
      "Requirement already satisfied: jsonschema>=2.6 in /usr/local/lib/python3.8/dist-packages (from nbformat>=5.1->nbconvert->jupyter) (4.17.3)\n",
      "Requirement already satisfied: fastjsonschema in /usr/local/lib/python3.8/dist-packages (from nbformat>=5.1->nbconvert->jupyter) (2.16.2)\n",
      "Requirement already satisfied: wcwidth in /usr/local/lib/python3.8/dist-packages (from prompt-toolkit!=3.0.0,!=3.0.1,<3.1.0,>=2.0.0->jupyter-console->jupyter) (0.2.5)\n",
      "Requirement already satisfied: ptyprocess in /usr/local/lib/python3.8/dist-packages (from terminado>=0.8.3->notebook->jupyter) (0.7.0)\n",
      "Requirement already satisfied: argon2-cffi-bindings in /usr/local/lib/python3.8/dist-packages (from argon2-cffi->notebook->jupyter) (21.2.0)\n",
      "Requirement already satisfied: soupsieve>1.2 in /usr/local/lib/python3.8/dist-packages (from beautifulsoup4->nbconvert->jupyter) (2.3.2.post1)\n",
      "Requirement already satisfied: six>=1.9.0 in /usr/local/lib/python3.8/dist-packages (from bleach->nbconvert->jupyter) (1.16.0)\n",
      "Requirement already satisfied: webencodings in /usr/local/lib/python3.8/dist-packages (from bleach->nbconvert->jupyter) (0.5.1)\n",
      "Requirement already satisfied: pyparsing!=3.0.5,>=2.0.2 in /usr/local/lib/python3.8/dist-packages (from packaging->ipykernel->jupyter) (3.0.9)\n",
      "Requirement already satisfied: parso<0.9.0,>=0.8.0 in /usr/local/lib/python3.8/dist-packages (from jedi>=0.16->ipython>=7.23.1->ipykernel->jupyter) (0.8.3)\n",
      "Requirement already satisfied: attrs>=17.4.0 in /usr/local/lib/python3.8/dist-packages (from jsonschema>=2.6->nbformat>=5.1->nbconvert->jupyter) (22.1.0)\n",
      "Requirement already satisfied: importlib-resources>=1.4.0 in /usr/local/lib/python3.8/dist-packages (from jsonschema>=2.6->nbformat>=5.1->nbconvert->jupyter) (5.10.0)\n",
      "Requirement already satisfied: pyrsistent!=0.17.0,!=0.17.1,!=0.17.2,>=0.14.0 in /usr/local/lib/python3.8/dist-packages (from jsonschema>=2.6->nbformat>=5.1->nbconvert->jupyter) (0.19.2)\n",
      "Requirement already satisfied: pkgutil-resolve-name>=1.3.10 in /usr/local/lib/python3.8/dist-packages (from jsonschema>=2.6->nbformat>=5.1->nbconvert->jupyter) (1.3.10)\n",
      "Requirement already satisfied: anyio<4,>=3.1.0 in /usr/local/lib/python3.8/dist-packages (from jupyter-server>=1.8->nbclassic>=0.4.7->notebook->jupyter) (3.6.2)\n",
      "Requirement already satisfied: websocket-client in /usr/local/lib/python3.8/dist-packages (from jupyter-server>=1.8->nbclassic>=0.4.7->notebook->jupyter) (1.4.2)\n",
      "Requirement already satisfied: cffi>=1.0.1 in /usr/local/lib/python3.8/dist-packages (from argon2-cffi-bindings->argon2-cffi->notebook->jupyter) (1.15.1)\n",
      "Requirement already satisfied: asttokens>=2.1.0 in /usr/local/lib/python3.8/dist-packages (from stack-data->ipython>=7.23.1->ipykernel->jupyter) (2.2.0)\n",
      "Requirement already satisfied: pure-eval in /usr/local/lib/python3.8/dist-packages (from stack-data->ipython>=7.23.1->ipykernel->jupyter) (0.2.2)\n",
      "Requirement already satisfied: executing>=1.2.0 in /usr/local/lib/python3.8/dist-packages (from stack-data->ipython>=7.23.1->ipykernel->jupyter) (1.2.0)\n",
      "Requirement already satisfied: idna>=2.8 in /usr/local/lib/python3.8/dist-packages (from anyio<4,>=3.1.0->jupyter-server>=1.8->nbclassic>=0.4.7->notebook->jupyter) (3.3)\n",
      "Requirement already satisfied: sniffio>=1.1 in /usr/local/lib/python3.8/dist-packages (from anyio<4,>=3.1.0->jupyter-server>=1.8->nbclassic>=0.4.7->notebook->jupyter) (1.3.0)\n",
      "Requirement already satisfied: pycparser in /usr/local/lib/python3.8/dist-packages (from cffi>=1.0.1->argon2-cffi-bindings->argon2-cffi->notebook->jupyter) (2.21)\n",
      "\n",
      "\u001b[1m[\u001b[0m\u001b[34;49mnotice\u001b[0m\u001b[1;39;49m]\u001b[0m\u001b[39;49m A new release of pip available: \u001b[0m\u001b[31;49m22.3.1\u001b[0m\u001b[39;49m -> \u001b[0m\u001b[32;49m23.1.2\u001b[0m\n",
      "\u001b[1m[\u001b[0m\u001b[34;49mnotice\u001b[0m\u001b[1;39;49m]\u001b[0m\u001b[39;49m To update, run: \u001b[0m\u001b[32;49mpip install --upgrade pip\u001b[0m\n"
     ]
    }
   ],
   "source": [
    "!python -m pip install jupyter"
   ]
  },
  {
   "attachments": {},
   "cell_type": "markdown",
   "metadata": {},
   "source": [
    "### Task 3\n",
    "Your third and final task is to establish a connection between Python and your database using the following steps:\n",
    "1. Ensure that mysql-connector is installed\n",
    "2. Import the connector\n",
    "3. Connect to the database"
   ]
  },
  {
   "cell_type": "code",
   "execution_count": 4,
   "metadata": {},
   "outputs": [
    {
     "name": "stdout",
     "output_type": "stream",
     "text": [
      "Requirement already satisfied: mysql-connector-python in /home/coder/.local/lib/python3.8/site-packages (8.0.33)\n",
      "Requirement already satisfied: protobuf<=3.20.3,>=3.11.0 in /home/coder/.local/lib/python3.8/site-packages (from mysql-connector-python) (3.20.3)\n"
     ]
    }
   ],
   "source": [
    "!pip install mysql-connector-python"
   ]
  },
  {
   "cell_type": "code",
   "execution_count": 5,
   "metadata": {},
   "outputs": [],
   "source": [
    "import mysql.connector as connector"
   ]
  },
  {
   "cell_type": "code",
   "execution_count": 6,
   "metadata": {},
   "outputs": [],
   "source": [
    "connection = connector.connect(\n",
    "    user=\"root\", \n",
    "    password=\"\", \n",
    ")"
   ]
  },
  {
   "attachments": {},
   "cell_type": "markdown",
   "metadata": {},
   "source": [
    "## Generic guidelines: \n",
    "\n",
    "Refer to the [Exercise](https://www.coursera.org/learn/database-clients/supplement/0oDtw/working-with-labs-in-this-course) for guidance on viewing your code, instructions related to the Jupyter notebook environment, as well as how to access the MySQL database in it.  \n",
    "\n",
    "## Prerequisites: \n",
    "\n",
    "To complete this exercise, you must have access to the little_lemon` database. As an authorized user, you need to establish a connection between Python and the database via the MySQL Connector/Python API and create a `cursor` object using the following code: "
   ]
  },
  {
   "cell_type": "code",
   "execution_count": 7,
   "metadata": {},
   "outputs": [
    {
     "name": "stdout",
     "output_type": "stream",
     "text": [
      "Cursor is created to communicate with the MySQL using Python.\n",
      "\n",
      "The database LittleLemonDB is created.\n",
      "\n",
      "The database LittleLemonDB is set for use.\n",
      "\n",
      "Customers table is created.\n",
      "\n",
      "Bookings table is created.\n",
      "\n",
      "Cuisine table is created.\n",
      "\n",
      "Menus table is created.\n",
      "\n",
      "Orders table is created.\n",
      "\n",
      "Inserting data in Customers table.\n",
      "Total number of rows in Customers table: 3\n",
      "\n",
      "Inserting data in Bookings table.\n",
      "Total number of rows in Bookings table: 8\n",
      "\n",
      "Inserting data in Cuisines table.\n",
      "Total number of rows in Cuisines table: 3\n",
      "\n",
      "Inserting data in Menus table.\n",
      "Total number of rows in Menus table: 10\n",
      "\n",
      "Inserting data in Orders table.\n",
      "Total number of rows in Orders table: 8\n",
      "\n",
      "The database \"LittleLemonDB\" is ready for use.\n"
     ]
    }
   ],
   "source": [
    "# Create cursor object to communicate with entire MySQL database\n",
    "cursor = connection.cursor()\n",
    "print(\"Cursor is created to communicate with the MySQL using Python.\\n\")\n",
    "\n",
    "# If exist, drop the database first, and create again\n",
    "try:\n",
    "    cursor.execute(\"CREATE DATABASE LittleLemonDB\")\n",
    "except:\n",
    "    cursor.execute(\"drop database LittleLemonDB\")\n",
    "    cursor.execute(\"CREATE DATABASE LittleLemonDB\")\n",
    "print(\"The database LittleLemonDB is created.\\n\")    \n",
    "    \n",
    "# Set little_lemon database for use \n",
    "cursor.execute(\"USE LittleLemonDB\")\n",
    "print(\"The database LittleLemonDB is set for use.\\n\")\n",
    "\n",
    "\n",
    "\n",
    "# The SQL query for MenuItems table is: \n",
    "create_customers_table=\"\"\"\n",
    "CREATE TABLE customers (\n",
    "CustomerID INT AUTO_INCREMENT NOT NULL,\n",
    "Name VARCHAR(100) NOT NULL,\n",
    "ContactNumber INT NOT NULL,\n",
    "PRIMARY KEY (CustomerID)\n",
    ");\"\"\"\n",
    "\n",
    "# Create MenuItems table\n",
    "cursor.execute(create_customers_table)\n",
    "print(\"Customers table is created.\\n\")\n",
    "\n",
    "\n",
    "\n",
    "# The SQL query for Bookings table is:\n",
    "create_booking_table=\"\"\"\n",
    "CREATE TABLE bookings (\n",
    "BookingID INT NOT NULL AUTO_INCREMENT,\n",
    "TableNo INT NOT NULL,\n",
    "BookingDate DATE NOT NULL,\n",
    "CustomerID INT NOT NULL,\n",
    "PRIMARY KEY (BookingID),\n",
    "CONSTRAINT CustomerID\n",
    "    FOREIGN KEY (CustomerID)\n",
    "    REFERENCES customers (CustomerID)\n",
    "    ON DELETE NO ACTION\n",
    "    ON UPDATE NO ACTION\n",
    ");\"\"\"\n",
    "\n",
    "# Create Bookings table\n",
    "cursor.execute(create_booking_table)\n",
    "print(\"Bookings table is created.\\n\")\n",
    "\n",
    "\n",
    "\n",
    "# The SQL query for Menu table is:\n",
    "create_cuisines_table=\"\"\"\n",
    "CREATE TABLE cuisines (\n",
    "CuisineID INT NOT NULL AUTO_INCREMENT,\n",
    "CuisineName VARCHAR(45) NOT NULL,\n",
    "PRIMARY KEY (CuisineID)\n",
    ");\"\"\"\n",
    "\n",
    "# Create Menu table\n",
    "cursor.execute(create_cuisines_table)\n",
    "print(\"Cuisine table is created.\\n\")\n",
    "\n",
    "\n",
    "\n",
    "# The SQL query for MenuItems table is: \n",
    "create_menu_table=\"\"\"\n",
    "CREATE TABLE menus (\n",
    "MenuID INT NOT NULL AUTO_INCREMENT,\n",
    "CourseName VARCHAR(100) NOT NULL,\n",
    "StarterName VARCHAR(100) NOT NULL,\n",
    "DessertName VARCHAR(100) NOT NULL,\n",
    "CuisineID INT NOT NULL,\n",
    "PRIMARY KEY (MenuID),\n",
    "CONSTRAINT CuisineID\n",
    "    FOREIGN KEY (CuisineID)\n",
    "    REFERENCES cuisines (CuisineID)\n",
    "    ON DELETE CASCADE\n",
    "    ON UPDATE CASCADE\n",
    ");\"\"\"\n",
    "\n",
    "# Create MenuItems table\n",
    "cursor.execute(create_menu_table)\n",
    "print(\"Menus table is created.\\n\")\n",
    "\n",
    "\n",
    "\n",
    "# The SQL query for Bookings table is:\n",
    "create_orders_table=\"\"\"\n",
    "CREATE TABLE orders (\n",
    "OrderID INT NOT NULL AUTO_INCREMENT,\n",
    "Quantity INT NOT NULL,\n",
    "TotalCost DECIMAL(10,2) NOT NULL,\n",
    "BookingID INT NOT NULL,\n",
    "MenuID INT NOT NULL,\n",
    "PRIMARY KEY (OrderID),\n",
    "CONSTRAINT BookingID\n",
    "    FOREIGN KEY (BookingID)\n",
    "    REFERENCES bookings (BookingID)\n",
    "    ON DELETE CASCADE\n",
    "    ON UPDATE CASCADE,\n",
    "CONSTRAINT MenuID\n",
    "    FOREIGN KEY (MenuID)\n",
    "    REFERENCES menus (MenuID)\n",
    "    ON DELETE CASCADE\n",
    "    ON UPDATE CASCADE\n",
    ");\"\"\"\n",
    "\n",
    "# Create Orders table\n",
    "cursor.execute(create_orders_table)\n",
    "print(\"Orders table is created.\\n\")\n",
    "\n",
    "\n",
    "\n",
    "\n",
    "#*******************************************************#\n",
    "# Insert query to populate \"Customers\" table is:\n",
    "#*******************************************************#\n",
    "insert_customers=\"\"\"\n",
    "INSERT INTO customers (Name, ContactNumber)\n",
    "VALUES\n",
    "('Laney Fadden', 12345),\n",
    "('Giacopo Bramich', 54321),\n",
    "('Lia Bonar', 12123);\"\"\"\n",
    "\n",
    "\n",
    "#*******************************************************#\n",
    "# Insert query to populate \"Bookings\" table is:\n",
    "#*******************************************************#\n",
    "insert_bookings=\"\"\"\n",
    "INSERT INTO bookings (TableNo, BookingDate, CustomerID)\n",
    "VALUES\n",
    "(5, '2022-10-10', 1),\n",
    "(3, '2022-11-12', 3),\n",
    "(2, '2022-10-11', 2),\n",
    "(2, '2022-10-13', 1),\n",
    "(5, '2022-12-10', 1),\n",
    "(3, '2022-12-12', 3),\n",
    "(2, '2022-12-11', 2),\n",
    "(2, '2022-12-13', 1);\"\"\"\n",
    "\n",
    "\n",
    "#*******************************************************#\n",
    "# Insert query to populate \"Menu\" table is:\n",
    "#*******************************************************#\n",
    "insert_cuisines=\"\"\"\n",
    "INSERT INTO cuisines (CuisineID, CuisineName)\n",
    "VALUES\n",
    "(1, 'Greek'),\n",
    "(2, 'Italian'),\n",
    "(3, 'Turkish');\"\"\"\n",
    "\n",
    "\n",
    "#*******************************************************#\n",
    "# Insert query to populate \"MenuItems\" table is:\n",
    "#*******************************************************#\n",
    "insert_menus=\"\"\"\n",
    "INSERT INTO menus (CourseName, StarterName, DessertName, CuisineID)\n",
    "VALUES\n",
    "('Greek salad', 'Olives', 'Greek yoghurt', 1),\n",
    "('Bean soup', 'Flatbread', 'Ice cream', 2),\n",
    "('Pizza', 'Minestrone', 'Cheesecake', 2),\n",
    "('Carbonara', 'Tomato bread', 'Affogato', 3),\n",
    "('Kabasa', 'Falafel', 'Turkish yoghurt', 1),\n",
    "('Shwarma', 'Hummus', 'Baklava', 2),\n",
    "('Greek salad', 'Olives', 'Greek yoghurt', 2),\n",
    "('Bean soup', 'Flatbread', 'Ice cream', 3),\n",
    "('Pizza', 'Minestrone', 'Cheesecake', 1),\n",
    "('Carbonara', 'Tomato bread', 'Affogato', 2)\n",
    ";\"\"\"\n",
    "\n",
    "\n",
    "#*******************************************************#\n",
    "# Insert query to populate \"Orders\" table is:\n",
    "#*******************************************************#\n",
    "insert_orders=\"\"\"\n",
    "INSERT INTO orders (Quantity, TotalCost, BookingID, MenuID)\n",
    "VALUES\n",
    "(2, 100, 1, 3),\n",
    "(4, 200, 2, 5),\n",
    "(10, 500, 3, 1),\n",
    "(5, 125, 4, 9),\n",
    "(1, 50, 5, 3),\n",
    "(5, 250, 6, 1),\n",
    "(1, 25, 7, 1),\n",
    "(2, 75, 8, 3);\"\"\"\n",
    "\n",
    "\n",
    "\n",
    "print(\"Inserting data in Customers table.\")\n",
    "# Populate Bookings table\n",
    "cursor.execute(insert_customers)\n",
    "print(\"Total number of rows in Customers table: {}\\n\".format(cursor.rowcount))\n",
    "connection.commit()\n",
    "\n",
    "print(\"Inserting data in Bookings table.\")\n",
    "# Populate Bookings table\n",
    "cursor.execute(insert_bookings)\n",
    "print(\"Total number of rows in Bookings table: {}\\n\".format(cursor.rowcount))\n",
    "connection.commit()\n",
    "\n",
    "print(\"Inserting data in Cuisines table.\")\n",
    "# Populate Cuisines table\n",
    "cursor.execute(insert_cuisines)\n",
    "print(\"Total number of rows in Cuisines table: {}\\n\".format(cursor.rowcount))\n",
    "# Once the query is executed, you commit the change into the database \n",
    "connection.commit()\n",
    "\n",
    "print(\"Inserting data in Menus table.\")\n",
    "# Populate Menus table\n",
    "cursor.execute(insert_menus)\n",
    "print(\"Total number of rows in Menus table: {}\\n\".format(cursor.rowcount))\n",
    "connection.commit()\n",
    "\n",
    "print(\"Inserting data in Orders table.\")\n",
    "# Populate Orders table\n",
    "cursor.execute(insert_orders)\n",
    "print(\"Total number of rows in Orders table: {}\\n\".format(cursor.rowcount))\n",
    "connection.commit()\n",
    "\n",
    "print(\"\"\"The database \"LittleLemonDB\" is ready for use.\"\"\")"
   ]
  },
  {
   "attachments": {},
   "cell_type": "markdown",
   "metadata": {},
   "source": [
    "### Task\n",
    "In this second task, you now need to query the database to show all tables within the database. \n",
    "\n",
    "Having established a connection in the first task, you need to execute a test query to ensure that there are no issues. You can do this by executing, or passing, a generic query that returns a snapshot of the database tables. \n",
    "\n",
    "You need to execute the query on the cursor using the code that follows. The cursor, as you should recall, is the bridge through which you can pass queries and return results. "
   ]
  },
  {
   "cell_type": "code",
   "execution_count": 11,
   "metadata": {},
   "outputs": [
    {
     "name": "stdout",
     "output_type": "stream",
     "text": [
      "[('bookings',), ('cuisines',), ('customers',), ('menus',), ('orders',)]\n"
     ]
    }
   ],
   "source": [
    "show_tables_query = \"SHOW tables\" \n",
    "cursor.execute(show_tables_query)\n",
    "results = cursor.fetchall()\n",
    "print(results)"
   ]
  },
  {
   "attachments": {},
   "cell_type": "markdown",
   "metadata": {},
   "source": [
    "### Task\n",
    "Query with table JOIN\n",
    "\n",
    "For the third and final task, Little Lemon need you to return specific details from your database. They require the full name and contact details for every customer that has placed an order greater than $60 for a promotional campaign. "
   ]
  },
  {
   "cell_type": "code",
   "execution_count": 19,
   "metadata": {},
   "outputs": [
    {
     "name": "stdout",
     "output_type": "stream",
     "text": [
      "('Name', 'ContactNumber')\n",
      "('Laney Fadden', 12345)\n",
      "('Laney Fadden', 12345)\n",
      "('Laney Fadden', 12345)\n",
      "('Giacopo Bramich', 54321)\n",
      "('Lia Bonar', 12123)\n",
      "('Lia Bonar', 12123)\n"
     ]
    }
   ],
   "source": [
    "query = \"\"\"\n",
    "SELECT C.Name, C.ContactNumber FROM orders AS O\n",
    "INNER JOIN bookings AS B ON O.BookingID = B.BookingID\n",
    "INNER JOIN customers AS C ON C.CustomerID = B.CustomerID\n",
    "WHERE TotalCost > 60;\n",
    "\"\"\"\n",
    "cursor.execute(query)\n",
    "results = cursor.fetchall()\n",
    "print(cursor.column_names)\n",
    "for x in results:\n",
    "    print(x)"
   ]
  },
  {
   "attachments": {},
   "cell_type": "markdown",
   "metadata": {},
   "source": [
    "## Task 2:\n",
    "\n",
    "Help Little Lemon to retrieve all those bookings where the guests did not appear today. How will you implement this task using a stored procedure? Use `NoArrival` as a name for your stored procedure.  \n",
    "\n",
    "TIP: Target the `Orders` and the `Bookings` tables, join them on `BookingID` and retrieve the records with a `NULL` value in the bill amount. Create a stored procedure, call it by its name using python and print the results."
   ]
  },
  {
   "cell_type": "code",
   "execution_count": 27,
   "metadata": {},
   "outputs": [
    {
     "name": "stdout",
     "output_type": "stream",
     "text": [
      "[(6, None)]\n"
     ]
    }
   ],
   "source": [
    "cursor.execute(\"DROP PROCEDURE IF EXISTS NoArrival;\")\n",
    "\n",
    "query = \"\"\" \n",
    "\n",
    "CREATE PROCEDURE NoArrival()\n",
    "\n",
    "BEGIN\n",
    "SELECT B.BookingID, O.BillAmount\n",
    "FROM Bookings AS B\n",
    "LEFT JOIN Orders AS O\n",
    "ON B.BookingID = O.BookingID\n",
    "WHERE O.BillAmount IS NULL;\n",
    "END\n",
    "\"\"\"\n",
    "\n",
    "cursor.execute(query)\n",
    "cursor.callproc('NoArrival')\n",
    "results = next(cursor.stored_results())   \n",
    "dataset = results.fetchall()            \n",
    "print(dataset)"
   ]
  },
  {
   "attachments": {},
   "cell_type": "markdown",
   "metadata": {},
   "source": [
    "## Task 3:\n",
    "\n",
    "It is very important for little lemon to keep track of the status of each guest’s order and display it on the screen to keep their guests informed.  \n",
    "\n",
    "This is how they categorize the orders: \n",
    "\n",
    "* If not assigned to any employee, the status is `In Queue` \n",
    "* If assigned to the employees with IDs 4 and 5, the status is `Preparing Order` \n",
    "* If assigned to the employees with IDs 1, 2, and 3, the status is `Order Served` \n",
    "\n",
    "Create a stored procedure named `OrderStatus` for the above task and call to check if everything is working.  \n",
    "\n",
    "**TIP:** Target `EmployeeID` column in the `Bookings` table and use the `CASE` function in your stored procedure query. Create a stored procedure, call it by its name using python and print the results.  "
   ]
  },
  {
   "cell_type": "code",
   "execution_count": 32,
   "metadata": {},
   "outputs": [
    {
     "name": "stdout",
     "output_type": "stream",
     "text": [
      "(1, 'Order Served')\n",
      "(2, 'Order Served')\n",
      "(3, 'Order Served')\n",
      "(4, 'Preparing Order')\n",
      "(5, 'Order Served')\n",
      "(6, 'Preparing Order')\n"
     ]
    }
   ],
   "source": [
    "cursor.execute(\"DROP PROCEDURE IF EXISTS OrderStatus;\")\n",
    "\n",
    "query = \"\"\" \n",
    "\n",
    "CREATE PROCEDURE OrderStatus()\n",
    "\n",
    "BEGIN\n",
    "SELECT BookingID,\n",
    "CASE\n",
    "    WHEN employeeID IN (1, 2, 3) THEN 'Order Served'\n",
    "    WHEN employeeID IN (4, 5) THEN 'Preparing Order'\n",
    "    ELSE 'In Queue'\n",
    "END AS Status\n",
    "FROM Bookings; \n",
    "END\n",
    "\"\"\"\n",
    "cursor.execute(query)\n",
    "cursor.callproc('OrderStatus')\n",
    "results = next(cursor.stored_results())   \n",
    "dataset = results.fetchall()      \n",
    "for data in dataset:    \n",
    "    print(data)"
   ]
  }
 ],
 "metadata": {
  "interpreter": {
   "hash": "31f2aee4e71d21fbe5cf8b01ff0e069b9275f58929596ceb00d14d90e3e16cd6"
  },
  "kernelspec": {
   "display_name": "Python 3.8.10 64-bit",
   "name": "python3"
  },
  "language_info": {
   "codemirror_mode": {
    "name": "ipython",
    "version": 3
   },
   "file_extension": ".py",
   "mimetype": "text/x-python",
   "name": "python",
   "nbconvert_exporter": "python",
   "pygments_lexer": "ipython3",
   "version": "3.8.10"
  }
 },
 "nbformat": 4,
 "nbformat_minor": 4
}
